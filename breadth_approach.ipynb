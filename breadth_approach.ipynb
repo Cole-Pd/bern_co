{
 "cells": [
  {
   "cell_type": "code",
   "execution_count": 1,
   "id": "90b9ef94-a1b2-467b-aabc-616b13058814",
   "metadata": {
    "tags": []
   },
   "outputs": [],
   "source": [
    "import selenium\n",
    "import pandas as pd\n",
    "from selenium import webdriver\n",
    "from selenium.webdriver.chrome.service import Service\n",
    "from selenium.webdriver.chrome.options import Options\n",
    "from selenium.webdriver.common.by import By\n",
    "from selenium.webdriver.support.ui import WebDriverWait\n",
    "from selenium.webdriver.common.keys import Keys\n",
    "from selenium.webdriver.support import expected_conditions as EC\n",
    "import time"
   ]
  },
  {
   "cell_type": "code",
   "execution_count": 2,
   "id": "a83fa1da-7366-494f-8970-c7d5fa069237",
   "metadata": {},
   "outputs": [],
   "source": [
    "options = webdriver.ChromeOptions()\n",
    "options.add_argument(\"--headless=new\")"
   ]
  },
  {
   "cell_type": "code",
   "execution_count": 3,
   "id": "08f87ef5-a79e-4bc0-bca1-034738abee10",
   "metadata": {
    "tags": []
   },
   "outputs": [],
   "source": [
    "sufixes = [\n",
    "    \"St\", \"Ave\", \"Blvd\", \"Dr\", \"Rd\", \"Ln\", \n",
    "    \"Ct\", \"Cir\", \"Pl\", \"Way\", \"Ter\", \"Trl\", \n",
    "    \"Pkwy\", \"Plz\", \"Sq\", \"Loop\", \"Cres\", \"Aly\", \n",
    "    \"Hwy\", \"Path\", \"Expy\", \"Grv\", \"Hts\", \n",
    "    \"Mdws\", \"Pass\", \"Row\", \"Run\", \"Vw\", \"Walk\", \"Blf\", \n",
    "    \"Brk\", \"Crk\", \"Xing\", \"Dale\", \"Fld\", \n",
    "    \"Gld\", \"Hts\", \"Holw\", \"Isle\", \"Knl\", \n",
    "    \"Lndg\", \"Mill\", \"Nook\", \"Ovps\", \"Park\", \n",
    "    \"Pnes\", \"Pt\", \"Rdg\", \"Spgs\", \"Vis\", \n",
    "    \"Wd\", \"Mews\", \"Cl\", \"Esp\", \"Gdns\", \n",
    "    \"Grg\", \"Grn\", \"Mall\", \"Qy\", \"Vly\", \"Hbr\",\n",
    "    \"Cv\", \"Bay\", \"Ests\", \"Trn\", \"Mnr\" ,'(SAC', ' St'\n",
    "]\n",
    "\n",
    "\n",
    "roads = pd.read_excel('MapBookRoadIndex.xlsx')\n",
    "roads = roads[roads['Road Name'] != 'Road Name']\n",
    "\n",
    "roads['Road Name'] = roads['Road Name'].str.split(' ')\n",
    "\n",
    "roads['Road Name'] = roads['Road Name'].apply(lambda x: x[:-1] if isinstance(x, list) else x)\n",
    "\n",
    "def remove_suffix(words):\n",
    "    if isinstance(words, list) and len(words) > 0:\n",
    "        if words[-1] in sufixes:\n",
    "            words = words[:-1]\n",
    "    return words\n",
    "\n",
    "roads['Road Name'] = roads['Road Name'].apply(remove_suffix)\n",
    "roads['Road Name'] = roads['Road Name'].dropna()\n",
    "roads['Road Name'] = roads['Road Name'].apply(remove_suffix)\n",
    "roads['Road Name'] = roads['Road Name'].apply(lambda x: ' '.join(x) if isinstance(x, list) else x)\n",
    "\n",
    "roads = roads.dropna(subset=['Road Name'])\n",
    "\n",
    "\n",
    "def remove_suffix(road_name, sufixes):\n",
    "    for suffix in sufixes:\n",
    "        \n",
    "        if road_name.lower().endswith(suffix.lower()):\n",
    "            road_name = road_name[:-len(suffix)].strip()\n",
    "    return road_name\n",
    "\n",
    "roads['Road Name'] = roads['Road Name'].apply(lambda x: remove_suffix(x, sufixes))\n",
    "roads = roads.drop_duplicates(subset=['Road Name'])\n",
    "roads = roads.reset_index(drop= True)\n",
    "roads['Road Name'].iloc[0] = '1ST'\n",
    "roads['Road Name'].iloc[2] = '3RD'\n",
    "\n",
    "# please make sure to count that the number of streets in the data frame is equal to the number of streets\n",
    "# to the number of streets in the excel file"
   ]
  },
  {
   "cell_type": "code",
   "execution_count": 4,
   "id": "9ba12213",
   "metadata": {},
   "outputs": [],
   "source": [
    "#run the line below to see your web page\n",
    "service = Service(executable_path='/Users/colefirkins/Desktop/selenium_project/chromedriver')\n",
    "\n",
    "# unhash the line below to  run the method in headless mode\n",
    "#driver = webdriver.Chrome(service=service, options=options) #Headless\n",
    "\n",
    "#Hash out the the line below to run the method in URL mode\n",
    "driver = webdriver.Chrome(service=service) #Not Headless\n",
    "wait = WebDriverWait(driver, timeout=2)\n",
    "\n",
    "\n",
    "# Build an empty list to append our data\n",
    "data = []\n",
    "total_parcels = []\n",
    "\n",
    "# Loop through each street to get their parcel IDs.\n",
    "\n",
    "for street in roads['Road Name'][0:10]:\n",
    "        time.sleep(2)\n",
    "        try:\n",
    "            \n",
    "            # Go to the bernco assessor website.\n",
    "            driver.get('https://assessor.bernco.gov/public.access/Search/Disclaimer.aspx?FromUrl=../search/commonsearch.aspx?mode=realprop')\n",
    "            \n",
    "            # Click the aggreeeee button to get started\n",
    "            login_form = driver.find_element(By.XPATH, '//*[@id=\"btAgree\"]')\n",
    "            wait.until(lambda d : login_form.is_displayed())\n",
    "            login_form.click()\n",
    "            \n",
    "            # Find the search bar on the page\n",
    "            search_bar = driver.find_element(By.XPATH, '//*[@id=\"inpStreet\"]')\n",
    "            wait.until(lambda d : search_bar.is_displayed())\n",
    "            time.sleep(2)\n",
    "            \n",
    "            #Search for a street in our list\n",
    "            search_bar.send_keys(street)\n",
    "            search_bar.send_keys(Keys.RETURN)                                                 \n",
    "            \n",
    "            divisor = 50\n",
    "            \n",
    "            # Find the number of entries\n",
    "            number = driver.find_element(By.XPATH, '//*[@id=\"frmMain\"]/table/tbody/tr/td/div/div/table[2]/tbody/tr/td/table/tbody/tr[3]/td/center/table[*]/tbody/tr/td[3]/font/b[2]').text\n",
    "            number = int(number)\n",
    "            total_parcels.append(number)\n",
    "            \n",
    "            \n",
    "            # Ensure the number is properly divisable by 50 to get all the pages we need!\n",
    "            def adjust_number(number, divisor):\n",
    "                if number % divisor != 0:\n",
    "                    number = number // divisor\n",
    "                    number += 1\n",
    "                    number = number * 50\n",
    "                else:\n",
    "                    number = number\n",
    "                return number\n",
    "\n",
    "            number = adjust_number(number = number, divisor = divisor)\n",
    "            \n",
    "\n",
    "            \n",
    "            # Select 50 entries per page\n",
    "            fifty = driver.find_element(By.XPATH, '//*[@id=\"selPageSize\"]/option[5]')\n",
    "            fifty.click()\n",
    "            \n",
    "            # Click and sort the data to ascending order this also iniciates the 50 per page                                    \n",
    "            per_page = driver.find_element(By.XPATH, '//*[@id=\"searchResults\"]/thead/tr[1]/th[1]')\n",
    "            per_page.click()\n",
    "            \n",
    "            # Loop through each page and grab the table\n",
    "            for i in range((number // 50)):\n",
    "                \n",
    "                # Find the table of items\n",
    "                parcel_table = driver.find_element(By.XPATH, '//*[@id=\"searchResults\"]/tbody')\n",
    "                # Get all the tr tags in the table\n",
    "                rows = parcel_table.find_elements(By.TAG_NAME, 'tr')\n",
    "                \n",
    "                #row_data = row.text.split()  # You can adjust the split() to fit the structure of your table\n",
    "                #data.append(row_data)\n",
    "            \n",
    "                #Get the text from each tag in the table\n",
    "                for row in rows:\n",
    "                    row_data = row.text.split()  \n",
    "                    data.append(row_data)\n",
    "                    # Split row text by whitespace or other delimiter\n",
    "                    \n",
    "                #try to go to the next button if it exists.    \n",
    "                try:\n",
    "                \n",
    "                    # Find the \"Next\" button using the last <a> element in the specific section\n",
    "                    next_button = driver.find_element(By.XPATH, '//*[@id=\"frmMain\"]/table/tbody/tr/td/div/div/table[2]/tbody/tr/td/table/tbody/tr[3]/td/center/table/tbody/tr/td[2]/font[2]/a[last()]')\n",
    "                    next_button.click()\n",
    "                \n",
    "                except:\n",
    "                    pass\n",
    "                    \n",
    "        except:  \n",
    "            pass\n",
    "                    \n",
    "                    \n",
    "            \n",
    "           \n",
    "        \n",
    "#Get the parcel Id from the data        \n",
    "parcel_ids = [sublist[0] for sublist in data]\n",
    " \n",
    "#Append the parcel Id to a dataframe\n",
    "df = pd.DataFrame()\n",
    "df['parcel ids'] = parcel_ids\n",
    "            \n",
    "\n",
    "driver.quit()"
   ]
  },
  {
   "cell_type": "code",
   "execution_count": 17,
   "id": "02a28b36-b4b3-4e41-ba74-3389e4c007e9",
   "metadata": {
    "tags": []
   },
   "outputs": [],
   "source": [
    "driver.quit()"
   ]
  },
  {
   "cell_type": "code",
   "execution_count": 6,
   "id": "df5562f6-3f7c-4de9-8182-f973597fe444",
   "metadata": {
    "tags": []
   },
   "outputs": [
    {
     "data": {
      "text/plain": [
       "0"
      ]
     },
     "execution_count": 6,
     "metadata": {},
     "output_type": "execute_result"
    }
   ],
   "source": [
    "duplicated_parcels = df[df.duplicated()]\n",
    "len(duplicated_parcels)"
   ]
  },
  {
   "cell_type": "code",
   "execution_count": null,
   "id": "656d5714-1452-400f-980d-6552c8ee8a03",
   "metadata": {
    "tags": []
   },
   "outputs": [],
   "source": []
  },
  {
   "cell_type": "code",
   "execution_count": 7,
   "id": "3b4f91f9-2346-4bfc-b092-7903098fa8b9",
   "metadata": {
    "tags": []
   },
   "outputs": [
    {
     "data": {
      "text/html": [
       "<div>\n",
       "<style scoped>\n",
       "    .dataframe tbody tr th:only-of-type {\n",
       "        vertical-align: middle;\n",
       "    }\n",
       "\n",
       "    .dataframe tbody tr th {\n",
       "        vertical-align: top;\n",
       "    }\n",
       "\n",
       "    .dataframe thead th {\n",
       "        text-align: right;\n",
       "    }\n",
       "</style>\n",
       "<table border=\"1\" class=\"dataframe\">\n",
       "  <thead>\n",
       "    <tr style=\"text-align: right;\">\n",
       "      <th></th>\n",
       "      <th>parcel ids</th>\n",
       "    </tr>\n",
       "  </thead>\n",
       "  <tbody>\n",
       "    <tr>\n",
       "      <th>0</th>\n",
       "      <td>437450</td>\n",
       "    </tr>\n",
       "    <tr>\n",
       "      <th>1</th>\n",
       "      <td>425400</td>\n",
       "    </tr>\n",
       "    <tr>\n",
       "      <th>2</th>\n",
       "      <td>420227</td>\n",
       "    </tr>\n",
       "    <tr>\n",
       "      <th>3</th>\n",
       "      <td>101606301537620825</td>\n",
       "    </tr>\n",
       "    <tr>\n",
       "      <th>4</th>\n",
       "      <td>101606300638220801</td>\n",
       "    </tr>\n",
       "    <tr>\n",
       "      <th>...</th>\n",
       "      <td>...</td>\n",
       "    </tr>\n",
       "    <tr>\n",
       "      <th>159</th>\n",
       "      <td>101405722919032709</td>\n",
       "    </tr>\n",
       "    <tr>\n",
       "      <th>160</th>\n",
       "      <td>101405722818332708</td>\n",
       "    </tr>\n",
       "    <tr>\n",
       "      <th>161</th>\n",
       "      <td>101405722717932707</td>\n",
       "    </tr>\n",
       "    <tr>\n",
       "      <th>162</th>\n",
       "      <td>101405722021233502</td>\n",
       "    </tr>\n",
       "    <tr>\n",
       "      <th>163</th>\n",
       "      <td>101405714528821205</td>\n",
       "    </tr>\n",
       "  </tbody>\n",
       "</table>\n",
       "<p>164 rows × 1 columns</p>\n",
       "</div>"
      ],
      "text/plain": [
       "             parcel ids\n",
       "0                437450\n",
       "1                425400\n",
       "2                420227\n",
       "3    101606301537620825\n",
       "4    101606300638220801\n",
       "..                  ...\n",
       "159  101405722919032709\n",
       "160  101405722818332708\n",
       "161  101405722717932707\n",
       "162  101405722021233502\n",
       "163  101405714528821205\n",
       "\n",
       "[164 rows x 1 columns]"
      ]
     },
     "execution_count": 7,
     "metadata": {},
     "output_type": "execute_result"
    }
   ],
   "source": [
    "df"
   ]
  },
  {
   "cell_type": "code",
   "execution_count": 8,
   "id": "62789510-6a2c-466a-ace5-abdaaed2505e",
   "metadata": {
    "tags": []
   },
   "outputs": [],
   "source": [
    "df['parcel ids'] = df['parcel ids'].drop_duplicates()"
   ]
  },
  {
   "cell_type": "code",
   "execution_count": 9,
   "id": "5e96b590-cb04-4232-b795-c578fa0cfbd7",
   "metadata": {
    "tags": []
   },
   "outputs": [
    {
     "data": {
      "text/html": [
       "<div>\n",
       "<style scoped>\n",
       "    .dataframe tbody tr th:only-of-type {\n",
       "        vertical-align: middle;\n",
       "    }\n",
       "\n",
       "    .dataframe tbody tr th {\n",
       "        vertical-align: top;\n",
       "    }\n",
       "\n",
       "    .dataframe thead th {\n",
       "        text-align: right;\n",
       "    }\n",
       "</style>\n",
       "<table border=\"1\" class=\"dataframe\">\n",
       "  <thead>\n",
       "    <tr style=\"text-align: right;\">\n",
       "      <th></th>\n",
       "      <th>parcel ids</th>\n",
       "    </tr>\n",
       "  </thead>\n",
       "  <tbody>\n",
       "    <tr>\n",
       "      <th>0</th>\n",
       "      <td>437450</td>\n",
       "    </tr>\n",
       "    <tr>\n",
       "      <th>1</th>\n",
       "      <td>425400</td>\n",
       "    </tr>\n",
       "    <tr>\n",
       "      <th>2</th>\n",
       "      <td>420227</td>\n",
       "    </tr>\n",
       "    <tr>\n",
       "      <th>3</th>\n",
       "      <td>101606301537620825</td>\n",
       "    </tr>\n",
       "    <tr>\n",
       "      <th>4</th>\n",
       "      <td>101606300638220801</td>\n",
       "    </tr>\n",
       "    <tr>\n",
       "      <th>...</th>\n",
       "      <td>...</td>\n",
       "    </tr>\n",
       "    <tr>\n",
       "      <th>159</th>\n",
       "      <td>101405722919032709</td>\n",
       "    </tr>\n",
       "    <tr>\n",
       "      <th>160</th>\n",
       "      <td>101405722818332708</td>\n",
       "    </tr>\n",
       "    <tr>\n",
       "      <th>161</th>\n",
       "      <td>101405722717932707</td>\n",
       "    </tr>\n",
       "    <tr>\n",
       "      <th>162</th>\n",
       "      <td>101405722021233502</td>\n",
       "    </tr>\n",
       "    <tr>\n",
       "      <th>163</th>\n",
       "      <td>101405714528821205</td>\n",
       "    </tr>\n",
       "  </tbody>\n",
       "</table>\n",
       "<p>164 rows × 1 columns</p>\n",
       "</div>"
      ],
      "text/plain": [
       "             parcel ids\n",
       "0                437450\n",
       "1                425400\n",
       "2                420227\n",
       "3    101606301537620825\n",
       "4    101606300638220801\n",
       "..                  ...\n",
       "159  101405722919032709\n",
       "160  101405722818332708\n",
       "161  101405722717932707\n",
       "162  101405722021233502\n",
       "163  101405714528821205\n",
       "\n",
       "[164 rows x 1 columns]"
      ]
     },
     "execution_count": 9,
     "metadata": {},
     "output_type": "execute_result"
    }
   ],
   "source": [
    "df"
   ]
  },
  {
   "cell_type": "code",
   "execution_count": 10,
   "id": "f2c54c32-cc9c-446b-a2d8-c3ec58c0eb26",
   "metadata": {
    "tags": []
   },
   "outputs": [
    {
     "data": {
      "text/plain": [
       "[164]"
      ]
     },
     "execution_count": 10,
     "metadata": {},
     "output_type": "execute_result"
    }
   ],
   "source": [
    "total_parcels"
   ]
  },
  {
   "cell_type": "code",
   "execution_count": 11,
   "id": "35b900b5-f7c9-4c0c-a910-ba9a62b20c30",
   "metadata": {
    "tags": []
   },
   "outputs": [
    {
     "data": {
      "text/plain": [
       "164"
      ]
     },
     "execution_count": 11,
     "metadata": {},
     "output_type": "execute_result"
    }
   ],
   "source": [
    "sum(total_parcels)"
   ]
  },
  {
   "cell_type": "code",
   "execution_count": null,
   "id": "55f2f561-8029-48b9-ac23-6a09f0072f08",
   "metadata": {},
   "outputs": [],
   "source": []
  }
 ],
 "metadata": {
  "kernelspec": {
   "display_name": "Python 3 (ipykernel)",
   "language": "python",
   "name": "python3"
  },
  "language_info": {
   "codemirror_mode": {
    "name": "ipython",
    "version": 3
   },
   "file_extension": ".py",
   "mimetype": "text/x-python",
   "name": "python",
   "nbconvert_exporter": "python",
   "pygments_lexer": "ipython3",
   "version": "3.11.5"
  }
 },
 "nbformat": 4,
 "nbformat_minor": 5
}
